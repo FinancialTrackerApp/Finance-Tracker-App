{
 "cells": [
  {
   "cell_type": "code",
   "execution_count": 55,
   "id": "9288037e",
   "metadata": {},
   "outputs": [],
   "source": [
    "import torch\n",
    "import torch.nn as nn\n",
    "import torch.optim as optim\n",
    "from sklearn.feature_extraction.text import TfidfVectorizer\n",
    "from sklearn.model_selection import train_test_split\n",
    "from sklearn.preprocessing import LabelEncoder\n"
   ]
  },
  {
   "cell_type": "code",
   "execution_count": 56,
   "id": "6efdb188",
   "metadata": {},
   "outputs": [
    {
     "name": "stdout",
     "output_type": "stream",
     "text": [
      "2.8.0+cu129\n",
      "12.9\n",
      "True\n"
     ]
    }
   ],
   "source": [
    "\n",
    "print(torch.__version__)        # e.g., 2.4.0+cu121\n",
    "print(torch.version.cuda)       # should say 12.1\n",
    "print(torch.cuda.is_available())# should be True\n",
    "\n"
   ]
  },
  {
   "cell_type": "code",
   "execution_count": 57,
   "id": "af9f2225",
   "metadata": {},
   "outputs": [],
   "source": [
    "data = [\n",
    "    (\"Bought pizza\", \"food\"),\n",
    "    (\"Groceries shopping\", \"food\"),\n",
    "    (\"Lunch at restaurant\", \"food\"),\n",
    "    (\"Dinner with family\", \"food\"),\n",
    "    (\"Bought vegetables\", \"food\"),\n",
    "    (\"Bought fruits\", \"food\"),\n",
    "    (\"Ordered online food\", \"food\"),\n",
    "    (\"Coffee from cafe\", \"food\"),\n",
    "    (\"Snacks from shop\", \"food\"),\n",
    "    (\"Ice cream purchase\", \"food\"),\n",
    "    \n",
    "    (\"Doctor consultation\", \"medical\"),\n",
    "    (\"Medicine purchase\", \"medical\"),\n",
    "    (\"Bought vitamins\", \"medical\"),\n",
    "    (\"Annual health checkup\", \"medical\"),\n",
    "    (\"Dental appointment\", \"medical\"),\n",
    "    (\"Eye checkup\", \"medical\"),\n",
    "    (\"Vaccination fee\", \"medical\"),\n",
    "    (\"Hospital visit\", \"medical\"),\n",
    "    (\"Pharmacy bill\", \"medical\"),\n",
    "    (\"Blood test\", \"medical\"),\n",
    "    \n",
    "    (\"Bus ticket\", \"transport\"),\n",
    "    (\"Fuel for car\", \"transport\"),\n",
    "    (\"Taxi ride\", \"transport\"),\n",
    "    (\"Train ticket\", \"transport\"),\n",
    "    (\"Flight booking\", \"transport\"),\n",
    "    (\"Uber fare\", \"transport\"),\n",
    "    (\"Metro pass\", \"transport\"),\n",
    "    (\"Gas refill\", \"transport\"),\n",
    "    (\"Parking fee\", \"transport\"),\n",
    "    (\"Bike repair\", \"transport\"),\n",
    "    \n",
    "    (\"Movie ticket\", \"others\"),\n",
    "    (\"Gym membership\", \"others\"),\n",
    "    (\"Book purchase\", \"others\"),\n",
    "    (\"Concert ticket\", \"others\"),\n",
    "    (\"Music subscription\", \"others\"),\n",
    "    (\"Gift for friend\", \"others\"),\n",
    "    (\"Clothes shopping\", \"others\"),\n",
    "    (\"Online course\", \"others\"),\n",
    "    (\"Software purchase\", \"others\"),\n",
    "    (\"Game purchase\", \"others\"),\n",
    "    \n",
    "    (\"Dinner at cafe\", \"food\"),\n",
    "    (\"Bought salad\", \"food\"),\n",
    "    (\"Car service\", \"transport\"),\n",
    "    (\"Bought cough syrup\", \"medical\"),\n",
    "    (\"Yoga class fee\", \"others\"),\n",
    "    (\"Taxi to airport\", \"transport\"),\n",
    "    (\"Lunch delivery\", \"food\"),\n",
    "    (\"Eye drops purchase\", \"medical\"),\n",
    "    (\"Movie streaming subscription\", \"others\"),\n",
    "    (\"Metro recharge\", \"transport\")\n",
    "]\n"
   ]
  },
  {
   "cell_type": "code",
   "execution_count": 58,
   "id": "70d0fcec",
   "metadata": {},
   "outputs": [
    {
     "data": {
      "text/plain": [
       "(('Bought pizza',\n",
       "  'Groceries shopping',\n",
       "  'Lunch at restaurant',\n",
       "  'Dinner with family',\n",
       "  'Bought vegetables',\n",
       "  'Bought fruits',\n",
       "  'Ordered online food',\n",
       "  'Coffee from cafe',\n",
       "  'Snacks from shop',\n",
       "  'Ice cream purchase',\n",
       "  'Doctor consultation',\n",
       "  'Medicine purchase',\n",
       "  'Bought vitamins',\n",
       "  'Annual health checkup',\n",
       "  'Dental appointment',\n",
       "  'Eye checkup',\n",
       "  'Vaccination fee',\n",
       "  'Hospital visit',\n",
       "  'Pharmacy bill',\n",
       "  'Blood test',\n",
       "  'Bus ticket',\n",
       "  'Fuel for car',\n",
       "  'Taxi ride',\n",
       "  'Train ticket',\n",
       "  'Flight booking',\n",
       "  'Uber fare',\n",
       "  'Metro pass',\n",
       "  'Gas refill',\n",
       "  'Parking fee',\n",
       "  'Bike repair',\n",
       "  'Movie ticket',\n",
       "  'Gym membership',\n",
       "  'Book purchase',\n",
       "  'Concert ticket',\n",
       "  'Music subscription',\n",
       "  'Gift for friend',\n",
       "  'Clothes shopping',\n",
       "  'Online course',\n",
       "  'Software purchase',\n",
       "  'Game purchase',\n",
       "  'Dinner at cafe',\n",
       "  'Bought salad',\n",
       "  'Car service',\n",
       "  'Bought cough syrup',\n",
       "  'Yoga class fee',\n",
       "  'Taxi to airport',\n",
       "  'Lunch delivery',\n",
       "  'Eye drops purchase',\n",
       "  'Movie streaming subscription',\n",
       "  'Metro recharge'),\n",
       " ('food',\n",
       "  'food',\n",
       "  'food',\n",
       "  'food',\n",
       "  'food',\n",
       "  'food',\n",
       "  'food',\n",
       "  'food',\n",
       "  'food',\n",
       "  'food',\n",
       "  'medical',\n",
       "  'medical',\n",
       "  'medical',\n",
       "  'medical',\n",
       "  'medical',\n",
       "  'medical',\n",
       "  'medical',\n",
       "  'medical',\n",
       "  'medical',\n",
       "  'medical',\n",
       "  'transport',\n",
       "  'transport',\n",
       "  'transport',\n",
       "  'transport',\n",
       "  'transport',\n",
       "  'transport',\n",
       "  'transport',\n",
       "  'transport',\n",
       "  'transport',\n",
       "  'transport',\n",
       "  'others',\n",
       "  'others',\n",
       "  'others',\n",
       "  'others',\n",
       "  'others',\n",
       "  'others',\n",
       "  'others',\n",
       "  'others',\n",
       "  'others',\n",
       "  'others',\n",
       "  'food',\n",
       "  'food',\n",
       "  'transport',\n",
       "  'medical',\n",
       "  'others',\n",
       "  'transport',\n",
       "  'food',\n",
       "  'medical',\n",
       "  'others',\n",
       "  'transport'))"
      ]
     },
     "execution_count": 58,
     "metadata": {},
     "output_type": "execute_result"
    }
   ],
   "source": [
    "texts, labels = zip(*data)\n",
    "texts,labels"
   ]
  },
  {
   "cell_type": "code",
   "execution_count": 59,
   "id": "037baf86",
   "metadata": {},
   "outputs": [
    {
     "data": {
      "text/plain": [
       "array([[0., 0., 0., ..., 0., 0., 0.],\n",
       "       [0., 0., 0., ..., 0., 0., 0.],\n",
       "       [0., 0., 0., ..., 0., 0., 0.],\n",
       "       ...,\n",
       "       [0., 0., 0., ..., 0., 0., 0.],\n",
       "       [0., 0., 0., ..., 0., 0., 0.],\n",
       "       [0., 0., 0., ..., 0., 0., 0.]])"
      ]
     },
     "execution_count": 59,
     "metadata": {},
     "output_type": "execute_result"
    }
   ],
   "source": [
    "#converting text data into numerical vectors\n",
    "vectorizer = TfidfVectorizer()\n",
    "X = vectorizer.fit_transform(texts).toarray()\n",
    "X\n"
   ]
  },
  {
   "cell_type": "code",
   "execution_count": 60,
   "id": "e096513c",
   "metadata": {},
   "outputs": [
    {
     "data": {
      "text/plain": [
       "array([0, 0, 0, 0, 0, 0, 0, 0, 0, 0, 1, 1, 1, 1, 1, 1, 1, 1, 1, 1, 3, 3,\n",
       "       3, 3, 3, 3, 3, 3, 3, 3, 2, 2, 2, 2, 2, 2, 2, 2, 2, 2, 0, 0, 3, 1,\n",
       "       2, 3, 0, 1, 2, 3])"
      ]
     },
     "execution_count": 60,
     "metadata": {},
     "output_type": "execute_result"
    }
   ],
   "source": [
    "# Encoding the labels\n",
    "encoder = LabelEncoder()\n",
    "y = encoder.fit_transform(labels)\n",
    "y"
   ]
  },
  {
   "cell_type": "code",
   "execution_count": 61,
   "id": "17407cca",
   "metadata": {},
   "outputs": [],
   "source": [
    "#Train and test split\n",
    "X_train, X_test, y_train, y_test = train_test_split(X, y, test_size=0.2, random_state=42)\n",
    "X_train = torch.tensor(X_train, dtype=torch.float32)\n",
    "y_train = torch.tensor(y_train, dtype=torch.long)\n",
    "X_test = torch.tensor(X_test, dtype=torch.float32)\n",
    "y_test = torch.tensor(y_test, dtype=torch.long)\n"
   ]
  },
  {
   "cell_type": "code",
   "execution_count": 62,
   "id": "81a6b94e",
   "metadata": {},
   "outputs": [],
   "source": [
    "#Define model\n",
    "class ExpenseClassifier(nn.Module):\n",
    "    def __init__(self, input_size,hidden_size, num_classes):\n",
    "        super(ExpenseClassifier, self).__init__()\n",
    "        self.fc1 = nn.Linear(input_size, hidden_size)\n",
    "        self.relu = nn.ReLU()\n",
    "        self.fc2 = nn.Linear(hidden_size, num_classes)\n",
    "\n",
    "    def forward(self,x):\n",
    "        out = self.fc1(x)\n",
    "        out = self.relu(out)\n",
    "        out = self.fc2(out)\n",
    "        return out"
   ]
  },
  {
   "cell_type": "code",
   "execution_count": 63,
   "id": "cebe98b6",
   "metadata": {},
   "outputs": [],
   "source": [
    "input_size = X_train.shape[1]\n",
    "hidden_size = 64\n",
    "num_classes = len(set(y))\n",
    "\n",
    "model = ExpenseClassifier(input_size, hidden_size, num_classes)"
   ]
  },
  {
   "cell_type": "code",
   "execution_count": 64,
   "id": "97d2cab7",
   "metadata": {},
   "outputs": [],
   "source": [
    "#Loss and optimizer\n",
    "criterion = nn.CrossEntropyLoss() # compares predicted catgeory vs actual\n",
    "optimizer = optim.Adam(model.parameters(), lr=0.01) # updates model weights efficiently\n"
   ]
  },
  {
   "cell_type": "code",
   "execution_count": 65,
   "id": "2a867f5f",
   "metadata": {},
   "outputs": [
    {
     "name": "stdout",
     "output_type": "stream",
     "text": [
      "Epoch [10/200], Loss: 0.9533\n",
      "Epoch [20/200], Loss: 0.2465\n",
      "Epoch [30/200], Loss: 0.0237\n",
      "Epoch [40/200], Loss: 0.0036\n",
      "Epoch [50/200], Loss: 0.0013\n",
      "Epoch [60/200], Loss: 0.0008\n",
      "Epoch [70/200], Loss: 0.0006\n",
      "Epoch [80/200], Loss: 0.0005\n",
      "Epoch [90/200], Loss: 0.0004\n",
      "Epoch [100/200], Loss: 0.0004\n",
      "Epoch [110/200], Loss: 0.0004\n",
      "Epoch [120/200], Loss: 0.0003\n",
      "Epoch [130/200], Loss: 0.0003\n",
      "Epoch [140/200], Loss: 0.0003\n",
      "Epoch [150/200], Loss: 0.0003\n",
      "Epoch [160/200], Loss: 0.0003\n",
      "Epoch [170/200], Loss: 0.0003\n",
      "Epoch [180/200], Loss: 0.0002\n",
      "Epoch [190/200], Loss: 0.0002\n",
      "Epoch [200/200], Loss: 0.0002\n"
     ]
    }
   ],
   "source": [
    "#Training loop\n",
    "epochs = 200\n",
    "for epoch in range(epochs):\n",
    "    outputs = model(X_train)\n",
    "    loss = criterion(outputs, y_train)\n",
    "    optimizer.zero_grad()\n",
    "    loss.backward()\n",
    "    optimizer.step()\n",
    "\n",
    "    if(epoch+1)%10==0:\n",
    "        print(f'Epoch [{epoch+1}/{epochs}], Loss: {loss.item():.4f}')"
   ]
  },
  {
   "cell_type": "code",
   "execution_count": 66,
   "id": "4f89ef10",
   "metadata": {},
   "outputs": [
    {
     "name": "stdout",
     "output_type": "stream",
     "text": [
      "Accuracy: 0.4000\n"
     ]
    }
   ],
   "source": [
    "#Evaluation\n",
    "with torch.inference_mode():\n",
    "    y_pred = model(X_test) #forward pass\n",
    "    y_pred_classes = torch.argmax(y_pred, dim=1 ) #pick highest probability class\n",
    "    acc = (y_pred_classes == y_test).float().mean() #accuracy\n",
    "    print(f'Accuracy: {acc.item():.4f}')"
   ]
  },
  {
   "cell_type": "code",
   "execution_count": null,
   "id": "81cc9121",
   "metadata": {},
   "outputs": [
    {
     "name": "stdout",
     "output_type": "stream",
     "text": [
      "food\n",
      "medical\n",
      "transport\n",
      "others\n",
      "transport\n"
     ]
    }
   ],
   "source": [
    "def predict(text):\n",
    "    vec = vectorizer.transform([text]).toarray()\n",
    "    vec = torch.tensor(vec, dtype=torch.float32)\n",
    "    output = model(vec)\n",
    "    pred = torch.argmax(output, 1).item()\n",
    "    return encoder.inverse_transform([pred])[0]\n",
    "\n",
    "print(predict(\"Bought apples\"))   \n",
    "print(predict(\"Hospital bill\"))   \n",
    "print(predict(\"Taxi fare\"))       \n",
    "print(predict(\"Netflix subscription\")) \n",
    "print(predict(\"Train from Velachery\"))\n"
   ]
  }
 ],
 "metadata": {
  "kernelspec": {
   "display_name": "venv",
   "language": "python",
   "name": "python3"
  },
  "language_info": {
   "codemirror_mode": {
    "name": "ipython",
    "version": 3
   },
   "file_extension": ".py",
   "mimetype": "text/x-python",
   "name": "python",
   "nbconvert_exporter": "python",
   "pygments_lexer": "ipython3",
   "version": "3.12.4"
  }
 },
 "nbformat": 4,
 "nbformat_minor": 5
}
