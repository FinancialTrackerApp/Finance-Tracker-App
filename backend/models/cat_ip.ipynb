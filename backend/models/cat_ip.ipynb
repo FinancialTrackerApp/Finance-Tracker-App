{
 "cells": [
  {
   "cell_type": "code",
   "execution_count": 1,
   "id": "9288037e",
   "metadata": {},
   "outputs": [],
   "source": [
    "import torch\n",
    "import torch.nn as nn\n",
    "import torch.optim as optim\n",
    "from sklearn.feature_extraction.text import TfidfVectorizer\n",
    "from sklearn.model_selection import train_test_split\n",
    "from sklearn.preprocessing import LabelEncoder\n",
    "import pandas as pd\n",
    "import os"
   ]
  },
  {
   "cell_type": "code",
   "execution_count": 2,
   "id": "6efdb188",
   "metadata": {},
   "outputs": [
    {
     "data": {
      "text/plain": [
       "device(type='cuda')"
      ]
     },
     "execution_count": 2,
     "metadata": {},
     "output_type": "execute_result"
    }
   ],
   "source": [
    "\n",
    "\n",
    "device = torch.device(\"cuda\" if torch.cuda.is_available() else \"cpu\")\n",
    "device\n",
    "\n",
    "\n"
   ]
  },
  {
   "cell_type": "code",
   "execution_count": null,
   "id": "70d0fcec",
   "metadata": {},
   "outputs": [
    {
     "name": "stdout",
     "output_type": "stream",
     "text": [
      "CSV Path: d:\\Programming\\Projects\\Finance-Tracker-App\\backend\\data\\expenses.csv\n"
     ]
    }
   ],
   "source": [
    "# Get current working directory (where Jupyter is running)\n",
    "cwd = os.getcwd()\n",
    "\n",
    "# Build the correct path relative to your notebook\n",
    "csv_path = os.path.join(cwd, \"..\", \"data\", \"text_category.csv\")\n",
    "\n",
    "# Normalize the path (resolves ..)\n",
    "csv_path = os.path.abspath(csv_path)\n",
    "\n",
    "print(\"CSV Path:\", csv_path)\n",
    "\n",
    "df = pd.read_csv(csv_path)\n",
    "# Extract columns\n",
    "texts = df['text']\n",
    "labels = df['category']"
   ]
  },
  {
   "cell_type": "code",
   "execution_count": 4,
   "id": "037baf86",
   "metadata": {},
   "outputs": [
    {
     "data": {
      "text/plain": [
       "(515, 564)"
      ]
     },
     "execution_count": 4,
     "metadata": {},
     "output_type": "execute_result"
    }
   ],
   "source": [
    "#converting text data into numerical vectors\n",
    "vectorizer = TfidfVectorizer()\n",
    "X = vectorizer.fit_transform(texts)\n",
    "X.shape\n"
   ]
  },
  {
   "cell_type": "code",
   "execution_count": 5,
   "id": "e096513c",
   "metadata": {},
   "outputs": [
    {
     "data": {
      "text/plain": [
       "array([1, 5, 3, 2, 0, 4, 1, 5, 3, 2, 0, 4, 1, 5, 3, 2, 0, 4, 1, 5, 3, 2,\n",
       "       0, 4, 1, 5, 3, 2, 0, 4, 1, 5, 3, 2, 0, 4, 1, 5, 3, 2, 0, 4, 1, 5,\n",
       "       3, 2, 0, 4, 1, 5, 3, 2, 0, 4, 1, 5, 3, 2, 0, 4, 1, 5, 3, 2, 0, 4,\n",
       "       1, 5, 3, 2, 0, 4, 1, 5, 3, 2, 0, 4, 1, 5, 3, 2, 0, 4, 1, 5, 3, 2,\n",
       "       0, 4, 1, 5, 3, 2, 0, 4, 1, 5, 3, 2, 0, 4, 1, 5, 3, 2, 0, 4, 1, 5,\n",
       "       3, 2, 0, 4, 1, 5, 3, 2, 0, 4, 1, 5, 3, 2, 0, 4, 1, 5, 3, 2, 0, 4,\n",
       "       1, 5, 3, 2, 0, 4, 1, 5, 3, 2, 0, 4, 1, 5, 3, 2, 0, 4, 1, 5, 3, 2,\n",
       "       0, 4, 1, 5, 3, 2, 0, 4, 1, 5, 3, 2, 0, 4, 1, 5, 3, 2, 0, 4, 1, 5,\n",
       "       3, 2, 0, 4, 1, 5, 3, 2, 0, 4, 1, 5, 3, 2, 0, 4, 1, 5, 3, 2, 0, 4,\n",
       "       1, 5, 3, 2, 0, 4, 1, 5, 3, 2, 0, 4, 1, 5, 3, 2, 0, 4, 1, 5, 3, 2,\n",
       "       0, 4, 1, 5, 3, 2, 0, 4, 1, 5, 3, 2, 0, 4, 1, 5, 3, 2, 0, 4, 1, 5,\n",
       "       3, 2, 0, 4, 1, 5, 3, 2, 0, 4, 1, 5, 3, 2, 0, 4, 1, 5, 3, 2, 0, 4,\n",
       "       1, 5, 3, 2, 0, 4, 1, 5, 3, 2, 0, 4, 1, 5, 3, 2, 0, 4, 1, 5, 3, 2,\n",
       "       0, 4, 1, 5, 3, 2, 0, 4, 1, 5, 3, 2, 0, 4, 1, 5, 3, 2, 0, 4, 1, 5,\n",
       "       3, 2, 0, 4, 1, 5, 3, 2, 0, 4, 1, 5, 3, 2, 0, 4, 1, 5, 3, 2, 0, 4,\n",
       "       1, 5, 3, 2, 0, 4, 1, 5, 3, 2, 0, 4, 1, 5, 3, 2, 0, 4, 1, 5, 3, 2,\n",
       "       0, 4, 1, 5, 3, 2, 0, 4, 1, 5, 3, 2, 0, 4, 1, 5, 3, 2, 0, 4, 1, 5,\n",
       "       3, 2, 0, 4, 1, 5, 3, 2, 0, 4, 1, 5, 3, 2, 0, 4, 1, 5, 3, 2, 0, 4,\n",
       "       1, 5, 3, 2, 0, 4, 1, 5, 3, 2, 0, 4, 1, 5, 3, 2, 0, 4, 1, 5, 3, 2,\n",
       "       0, 4, 1, 5, 3, 2, 0, 4, 1, 5, 3, 2, 0, 4, 1, 5, 3, 2, 0, 4, 1, 5,\n",
       "       3, 2, 0, 4, 1, 5, 3, 2, 0, 4, 1, 5, 3, 2, 0, 4, 1, 5, 3, 2, 0, 4,\n",
       "       1, 5, 3, 2, 0, 4, 1, 5, 3, 2, 0, 4, 1, 5, 3, 2, 0, 4, 1, 5, 3, 2,\n",
       "       0, 4, 1, 5, 3, 2, 0, 4, 1, 5, 3, 2, 0, 4, 1, 5, 3, 2, 0, 4, 2, 2,\n",
       "       2, 2, 2, 5, 5, 2, 2, 1, 1])"
      ]
     },
     "execution_count": 5,
     "metadata": {},
     "output_type": "execute_result"
    }
   ],
   "source": [
    "# Encoding the labels\n",
    "encoder = LabelEncoder()\n",
    "y = encoder.fit_transform(labels)\n",
    "y"
   ]
  },
  {
   "cell_type": "code",
   "execution_count": 6,
   "id": "17407cca",
   "metadata": {},
   "outputs": [],
   "source": [
    "#Train and test split\n",
    "X_train, X_test, y_train, y_test = train_test_split(X, y, test_size=0.2, random_state=42)\n",
    "\n",
    "# Convert sparse matrices to dense arrays to avoid type errors\n",
    "X_train = X_train.toarray()\n",
    "X_test = X_test.toarray()\n",
    "\n",
    "\n",
    "X_train = torch.tensor(X_train, dtype=torch.float32)\n",
    "y_train = torch.tensor(y_train, dtype=torch.long)\n",
    "X_test = torch.tensor(X_test, dtype=torch.float32)\n",
    "y_test = torch.tensor(y_test, dtype=torch.long)\n"
   ]
  },
  {
   "cell_type": "code",
   "execution_count": 7,
   "id": "1a576a12",
   "metadata": {},
   "outputs": [],
   "source": [
    "X_train = X_train.to(device)\n",
    "y_train = y_train.to(device)\n",
    "X_test = X_test.to(device)\n",
    "y_test = y_test.to(device)\n"
   ]
  },
  {
   "cell_type": "code",
   "execution_count": 8,
   "id": "81a6b94e",
   "metadata": {},
   "outputs": [],
   "source": [
    "#Define model\n",
    "class ExpenseClassifier(nn.Module):\n",
    "    def __init__(self, input_size,hidden_size, num_classes):\n",
    "        super(ExpenseClassifier, self).__init__()\n",
    "        self.fc1 = nn.Linear(input_size, hidden_size)\n",
    "        self.relu = nn.ReLU()\n",
    "        self.fc2 = nn.Linear(hidden_size, num_classes)\n",
    "\n",
    "    def forward(self,x):\n",
    "        out = self.fc1(x)\n",
    "        out = self.relu(out)\n",
    "        out = self.fc2(out)\n",
    "        return out"
   ]
  },
  {
   "cell_type": "code",
   "execution_count": 9,
   "id": "25a120f1",
   "metadata": {},
   "outputs": [
    {
     "data": {
      "text/plain": [
       "564"
      ]
     },
     "execution_count": 9,
     "metadata": {},
     "output_type": "execute_result"
    }
   ],
   "source": [
    "X_train.shape[1]"
   ]
  },
  {
   "cell_type": "code",
   "execution_count": 10,
   "id": "cebe98b6",
   "metadata": {},
   "outputs": [
    {
     "data": {
      "text/plain": [
       "ExpenseClassifier(\n",
       "  (fc1): Linear(in_features=564, out_features=128, bias=True)\n",
       "  (relu): ReLU()\n",
       "  (fc2): Linear(in_features=128, out_features=6, bias=True)\n",
       ")"
      ]
     },
     "execution_count": 10,
     "metadata": {},
     "output_type": "execute_result"
    }
   ],
   "source": [
    "input_size = X_train.shape[1]\n",
    "hidden_size = 128\n",
    "num_classes = len(set(y))\n",
    "\n",
    "model = ExpenseClassifier(input_size, hidden_size, num_classes)\n",
    "model.to(device)"
   ]
  },
  {
   "cell_type": "code",
   "execution_count": 11,
   "id": "97d2cab7",
   "metadata": {},
   "outputs": [],
   "source": [
    "#Loss and optimizer\n",
    "criterion = nn.CrossEntropyLoss() # compares predicted catgeory vs actual\n",
    "optimizer = optim.Adam(model.parameters(), lr=0.01) # updates model weights efficiently\n"
   ]
  },
  {
   "cell_type": "code",
   "execution_count": 12,
   "id": "2a867f5f",
   "metadata": {},
   "outputs": [
    {
     "name": "stdout",
     "output_type": "stream",
     "text": [
      "Epoch [10/500], Loss: 0.8916\n",
      "Epoch [20/500], Loss: 0.0494\n",
      "Epoch [30/500], Loss: 0.0100\n",
      "Epoch [40/500], Loss: 0.0072\n",
      "Epoch [50/500], Loss: 0.0062\n",
      "Epoch [60/500], Loss: 0.0056\n",
      "Epoch [70/500], Loss: 0.0051\n",
      "Epoch [80/500], Loss: 0.0048\n",
      "Epoch [90/500], Loss: 0.0046\n",
      "Epoch [100/500], Loss: 0.0044\n",
      "Epoch [110/500], Loss: 0.0042\n",
      "Epoch [120/500], Loss: 0.0041\n",
      "Epoch [130/500], Loss: 0.0040\n",
      "Epoch [140/500], Loss: 0.0040\n",
      "Epoch [150/500], Loss: 0.0039\n",
      "Epoch [160/500], Loss: 0.0038\n",
      "Epoch [170/500], Loss: 0.0038\n",
      "Epoch [180/500], Loss: 0.0037\n",
      "Epoch [190/500], Loss: 0.0037\n",
      "Epoch [200/500], Loss: 0.0037\n",
      "Epoch [210/500], Loss: 0.0037\n",
      "Epoch [220/500], Loss: 0.0036\n",
      "Epoch [230/500], Loss: 0.0036\n",
      "Epoch [240/500], Loss: 0.0036\n",
      "Epoch [250/500], Loss: 0.0036\n",
      "Epoch [260/500], Loss: 0.0036\n",
      "Epoch [270/500], Loss: 0.0035\n",
      "Epoch [280/500], Loss: 0.0035\n",
      "Epoch [290/500], Loss: 0.0035\n",
      "Epoch [300/500], Loss: 0.0035\n",
      "Epoch [310/500], Loss: 0.0035\n",
      "Epoch [320/500], Loss: 0.0035\n",
      "Epoch [330/500], Loss: 0.0035\n",
      "Epoch [340/500], Loss: 0.0035\n",
      "Epoch [350/500], Loss: 0.0035\n",
      "Epoch [360/500], Loss: 0.0035\n",
      "Epoch [370/500], Loss: 0.0035\n",
      "Epoch [380/500], Loss: 0.0035\n",
      "Epoch [390/500], Loss: 0.0035\n",
      "Epoch [400/500], Loss: 0.0035\n",
      "Epoch [410/500], Loss: 0.0035\n",
      "Epoch [420/500], Loss: 0.0034\n",
      "Epoch [430/500], Loss: 0.0034\n",
      "Epoch [440/500], Loss: 0.0034\n",
      "Epoch [450/500], Loss: 0.0034\n",
      "Epoch [460/500], Loss: 0.0034\n",
      "Epoch [470/500], Loss: 0.0034\n",
      "Epoch [480/500], Loss: 0.0034\n",
      "Epoch [490/500], Loss: 0.0034\n",
      "Epoch [500/500], Loss: 0.0034\n"
     ]
    }
   ],
   "source": [
    "#Training loop\n",
    "epochs = 500\n",
    "for epoch in range(epochs):\n",
    "    outputs = model(X_train)\n",
    "    loss = criterion(outputs, y_train)\n",
    "    optimizer.zero_grad()\n",
    "    loss.backward()\n",
    "    optimizer.step()\n",
    "\n",
    "    if(epoch+1)%10==0:\n",
    "        print(f'Epoch [{epoch+1}/{epochs}], Loss: {loss.item():.4f}')"
   ]
  },
  {
   "cell_type": "code",
   "execution_count": 13,
   "id": "4f89ef10",
   "metadata": {},
   "outputs": [
    {
     "name": "stdout",
     "output_type": "stream",
     "text": [
      "Accuracy: 0.6893\n"
     ]
    }
   ],
   "source": [
    "#Evaluation\n",
    "with torch.inference_mode():\n",
    "    y_pred = model(X_test) #forward pass\n",
    "    y_pred_classes = torch.argmax(y_pred, dim=1 ) #pick highest probability class\n",
    "    acc = (y_pred_classes == y_test).float().mean() #accuracy\n",
    "    print(f'Accuracy: {acc.item():.4f}')"
   ]
  },
  {
   "cell_type": "code",
   "execution_count": 14,
   "id": "eaecbb30",
   "metadata": {},
   "outputs": [],
   "source": [
    "import torch\n",
    "import joblib\n",
    "import os\n",
    "\n",
    "save_dir = \".\"   # current directory (your models folder)\n",
    "os.makedirs(save_dir, exist_ok=True)\n",
    "\n",
    "# Save TF-IDF vectorizer\n",
    "joblib.dump(vectorizer, os.path.join(save_dir, \"vectorizer.pkl\"))\n",
    "\n",
    "# Save model weights\n",
    "torch.save(model.state_dict(), os.path.join(save_dir, \"category_predictor_model.pth\"))\n",
    "\n",
    "# Save category mapping using PyTorch (from the LabelEncoder)\n",
    "category_list = list(encoder.classes_)  # this preserves exact order\n",
    "torch.save(category_list, os.path.join(save_dir, \"encoder.pth\"))\n"
   ]
  },
  {
   "cell_type": "code",
   "execution_count": 15,
   "id": "81cc9121",
   "metadata": {},
   "outputs": [
    {
     "name": "stdout",
     "output_type": "stream",
     "text": [
      "{'Transport': 0.0, 'Healthcare': 500.0, 'Food': 0.0, 'Housing': 0.0, 'Education': 0.0, 'Others': 0.0}\n"
     ]
    }
   ],
   "source": [
    "import spacy\n",
    "nlp = spacy.load(\"en_core_web_sm\")\n",
    "totals = {\n",
    "    \"Transport\": 0.0,\n",
    "    \"Healthcare\": 0.0,\n",
    "    \"Food\": 0.0,\n",
    "    \"Housing\": 0.0,\n",
    "    \"Education\": 0.0,\n",
    "    \"Others\": 0.0\n",
    "}\n",
    "\n",
    "def predict(text):\n",
    "    # Vectorize and move to correct device\n",
    "    vec = vectorizer.transform([text]).toarray()\n",
    "    vec = torch.tensor(vec, dtype=torch.float32).to(device)\n",
    "\n",
    "    # Predict category\n",
    "    output = model(vec)\n",
    "    pred = torch.argmax(output, 1).item()\n",
    "    pred = encoder.inverse_transform([pred])[0]\n",
    "\n",
    "    # Extract all amounts\n",
    "    doc = nlp(text)\n",
    "    amount = 0.0\n",
    "    for ent in doc.ents:\n",
    "        if ent.label_ in [\"MONEY\", \"CARDINAL\"]:\n",
    "            try:\n",
    "                amount += float(ent.text)  # sum all numbers in the sentence\n",
    "            except:\n",
    "                pass\n",
    "\n",
    "    totals[pred] += amount\n",
    "    # return totals\n",
    "# testing:\n",
    "# predict(\"Bought apples for 80 rs\")   \n",
    "# predict(\"Hospital bill as 750\")   \n",
    "# predict(\"Taxi fare as 300\")       \n",
    "# predict(\"Netflix subscription as 500\") \n",
    "# predict(\"Train from Velachery as 150\") \n",
    "# predict(\"Spent 500 for spinach\")\n",
    "# predict(\"Spent 500000 on sons tuition fee\")\n",
    "predict(\"Medical fee 500\")\n",
    "\n",
    "print(totals)\n"
   ]
  },
  {
   "cell_type": "code",
   "execution_count": 16,
   "id": "2a49614f",
   "metadata": {},
   "outputs": [
    {
     "name": "stdout",
     "output_type": "stream",
     "text": [
      "700 CARDINAL\n",
      "300 CARDINAL\n",
      "26th July DATE\n"
     ]
    }
   ],
   "source": [
    "import spacy\n",
    "nlp = spacy.load(\"en_core_web_sm\")\n",
    "\n",
    "doc = nlp(\"I spent Rs. 700 and 300 on food on 26th July\")\n",
    "for ent in doc.ents:\n",
    "    print(ent.text, ent.label_)\n"
   ]
  },
  {
   "cell_type": "code",
   "execution_count": 17,
   "id": "320d8f8e",
   "metadata": {},
   "outputs": [
    {
     "name": "stdout",
     "output_type": "stream",
     "text": [
      "d:\\Programming\\Projects\\Finance-Tracker-App\\backend\\models\n"
     ]
    }
   ],
   "source": [
    "import os\n",
    "print(os.getcwd())\n",
    "\n"
   ]
  },
  {
   "cell_type": "code",
   "execution_count": 18,
   "id": "027208df",
   "metadata": {},
   "outputs": [
    {
     "name": "stdout",
     "output_type": "stream",
     "text": [
      "Training order: ['Education', 'Food', 'Healthcare', 'Housing', 'Others', 'Transport']\n"
     ]
    }
   ],
   "source": [
    "print(\"Training order:\", list(encoder.classes_))\n",
    "\n",
    "\n",
    "\n"
   ]
  }
 ],
 "metadata": {
  "kernelspec": {
   "display_name": "Python 3",
   "language": "python",
   "name": "python3"
  },
  "language_info": {
   "codemirror_mode": {
    "name": "ipython",
    "version": 3
   },
   "file_extension": ".py",
   "mimetype": "text/x-python",
   "name": "python",
   "nbconvert_exporter": "python",
   "pygments_lexer": "ipython3",
   "version": "3.12.4"
  }
 },
 "nbformat": 4,
 "nbformat_minor": 5
}
