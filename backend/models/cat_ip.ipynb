{
 "cells": [
  {
   "cell_type": "code",
   "execution_count": 1160,
   "id": "9288037e",
   "metadata": {},
   "outputs": [],
   "source": [
    "import torch\n",
    "import torch.nn as nn\n",
    "import torch.optim as optim\n",
    "from sklearn.feature_extraction.text import TfidfVectorizer\n",
    "from sklearn.model_selection import train_test_split\n",
    "from sklearn.preprocessing import LabelEncoder\n",
    "import pandas as pd\n",
    "import os\n",
    "import re"
   ]
  },
  {
   "cell_type": "code",
   "execution_count": 1161,
   "id": "8ca003aa",
   "metadata": {},
   "outputs": [
    {
     "name": "stdout",
     "output_type": "stream",
     "text": [
      "2.7.1+cpu\n",
      "False\n"
     ]
    }
   ],
   "source": [
    "import torch\n",
    "print(torch.__version__)\n",
    "print(torch.cuda.is_available())\n"
   ]
  },
  {
   "cell_type": "code",
   "execution_count": 1162,
   "id": "6efdb188",
   "metadata": {},
   "outputs": [
    {
     "data": {
      "text/plain": [
       "device(type='cpu')"
      ]
     },
     "execution_count": 1162,
     "metadata": {},
     "output_type": "execute_result"
    }
   ],
   "source": [
    "\n",
    "\n",
    "device = torch.device(\"cuda\" if torch.cuda.is_available() else \"cpu\")\n",
    "device\n",
    "\n",
    "\n"
   ]
  },
  {
   "cell_type": "code",
   "execution_count": 1163,
   "id": "89187654",
   "metadata": {},
   "outputs": [],
   "source": [
    "import re\n",
    "\n",
    "def normalize_text(text: str) -> str:\n",
    "    # Convert to lowercase\n",
    "    text = text.lower()\n",
    "    \n",
    "    # Replace dates (dd/mm/yyyy or yyyy-mm-dd) with <DATE>\n",
    "    text = re.sub(r'\\b\\d{1,2}[/-]\\d{1,2}[/-]\\d{2,4}\\b', '<DATE>', text)\n",
    "    text = re.sub(r'\\b\\d{4}[/-]\\d{1,2}[/-]\\d{1,2}\\b', '<DATE>', text)\n",
    "    \n",
    "    # Replace currency amounts ($, €, ₹, £, etc.) with <CUR>\n",
    "    text = re.sub(r'[\\$€₹£]\\s*\\d+(\\.\\d+)?', '<CUR>', text)\n",
    "    \n",
    "    # Remove punctuation\n",
    "    text = re.sub(r'[^\\w\\s<>]', '', text)\n",
    "    \n",
    "    # Remove extra whitespace\n",
    "    text = re.sub(r'\\s+', ' ', text).strip()\n",
    "\n",
    "    # Replace all standalone numbers with <NUM>\n",
    "    text = re.sub(r'\\b\\d+(\\.\\d+)?\\b', '<NUM>', text)\n",
    "    \n",
    "    return text\n"
   ]
  },
  {
   "cell_type": "code",
   "execution_count": 1164,
   "id": "70d0fcec",
   "metadata": {},
   "outputs": [
    {
     "name": "stdout",
     "output_type": "stream",
     "text": [
      "CSV Path: d:\\Programming\\Projects\\Finance-Tracker-App\\backend\\data\\text_cat2.csv\n"
     ]
    }
   ],
   "source": [
    "# Get current working directory (where Jupyter is running)\n",
    "cwd = os.getcwd()\n",
    "\n",
    "# Build the correct path relative to your notebook\n",
    "csv_path = os.path.join(cwd, \"..\", \"data\", \"text_cat2.csv\")\n",
    "\n",
    "# Normalize the path (resolves ..)\n",
    "csv_path = os.path.abspath(csv_path)\n",
    "\n",
    "print(\"CSV Path:\", csv_path)\n",
    "\n",
    "df = pd.read_csv(csv_path)\n",
    "# Extract columns\n",
    "df[\"text\"] = df[\"text\"].apply(normalize_text)\n",
    "texts = df['text']\n",
    "labels = df['category']"
   ]
  },
  {
   "cell_type": "code",
   "execution_count": 1165,
   "id": "037baf86",
   "metadata": {},
   "outputs": [
    {
     "data": {
      "text/plain": [
       "(1035, 487)"
      ]
     },
     "execution_count": 1165,
     "metadata": {},
     "output_type": "execute_result"
    }
   ],
   "source": [
    "#converting text data into numerical vectors\n",
    "vectorizer = TfidfVectorizer()\n",
    "X = vectorizer.fit_transform(texts)\n",
    "X.shape\n"
   ]
  },
  {
   "cell_type": "code",
   "execution_count": 1166,
   "id": "e096513c",
   "metadata": {},
   "outputs": [
    {
     "data": {
      "text/plain": [
       "array([2, 5, 4, ..., 1, 1, 1])"
      ]
     },
     "execution_count": 1166,
     "metadata": {},
     "output_type": "execute_result"
    }
   ],
   "source": [
    "# Encoding the labels\n",
    "encoder = LabelEncoder()\n",
    "y = encoder.fit_transform(labels)\n",
    "y"
   ]
  },
  {
   "cell_type": "code",
   "execution_count": 1167,
   "id": "17407cca",
   "metadata": {},
   "outputs": [],
   "source": [
    "#Train and test split\n",
    "X_train, X_test, y_train, y_test = train_test_split(X, y, test_size=0.2, random_state=42)\n",
    "\n",
    "# Convert sparse matrices to dense arrays to avoid type errors\n",
    "X_train = X_train.toarray()\n",
    "X_test = X_test.toarray()\n",
    "\n",
    "\n",
    "X_train = torch.tensor(X_train, dtype=torch.float32)\n",
    "y_train = torch.tensor(y_train, dtype=torch.long)\n",
    "X_test = torch.tensor(X_test, dtype=torch.float32)\n",
    "y_test = torch.tensor(y_test, dtype=torch.long)\n"
   ]
  },
  {
   "cell_type": "code",
   "execution_count": 1168,
   "id": "1a576a12",
   "metadata": {},
   "outputs": [],
   "source": [
    "X_train = X_train.to(device)\n",
    "y_train = y_train.to(device)\n",
    "X_test = X_test.to(device)\n",
    "y_test = y_test.to(device)\n"
   ]
  },
  {
   "cell_type": "code",
   "execution_count": 1169,
   "id": "81a6b94e",
   "metadata": {},
   "outputs": [],
   "source": [
    "#Define model\n",
    "class ExpenseClassifier(nn.Module):\n",
    "    def __init__(self, input_size,hidden_size, num_classes):\n",
    "        super(ExpenseClassifier, self).__init__()\n",
    "        self.fc1 = nn.Linear(input_size, hidden_size)\n",
    "        self.relu = nn.ReLU()\n",
    "        self.fc2 = nn.Linear(hidden_size, num_classes)\n",
    "\n",
    "    def forward(self,x):\n",
    "        out = self.fc1(x)\n",
    "        out = self.relu(out)\n",
    "        out = self.fc2(out)\n",
    "        return out"
   ]
  },
  {
   "cell_type": "code",
   "execution_count": 1170,
   "id": "25a120f1",
   "metadata": {},
   "outputs": [
    {
     "data": {
      "text/plain": [
       "487"
      ]
     },
     "execution_count": 1170,
     "metadata": {},
     "output_type": "execute_result"
    }
   ],
   "source": [
    "X_train.shape[1]"
   ]
  },
  {
   "cell_type": "code",
   "execution_count": 1171,
   "id": "cebe98b6",
   "metadata": {},
   "outputs": [
    {
     "data": {
      "text/plain": [
       "ExpenseClassifier(\n",
       "  (fc1): Linear(in_features=487, out_features=128, bias=True)\n",
       "  (relu): ReLU()\n",
       "  (fc2): Linear(in_features=128, out_features=6, bias=True)\n",
       ")"
      ]
     },
     "execution_count": 1171,
     "metadata": {},
     "output_type": "execute_result"
    }
   ],
   "source": [
    "input_size = X_train.shape[1]\n",
    "hidden_size = 128\n",
    "num_classes = len(set(y))\n",
    "\n",
    "model = ExpenseClassifier(input_size, hidden_size, num_classes)\n",
    "model.to(device)"
   ]
  },
  {
   "cell_type": "code",
   "execution_count": 1172,
   "id": "97d2cab7",
   "metadata": {},
   "outputs": [],
   "source": [
    "#Loss and optimizer\n",
    "criterion = nn.CrossEntropyLoss() # compares predicted catgeory vs actual\n",
    "optimizer = optim.Adam(model.parameters(), lr=0.01) # updates model weights efficiently\n"
   ]
  },
  {
   "cell_type": "code",
   "execution_count": 1173,
   "id": "2a867f5f",
   "metadata": {},
   "outputs": [
    {
     "name": "stdout",
     "output_type": "stream",
     "text": [
      "Epoch [50/500] | Train Loss: 0.0004, Acc: 1.0000 | Test Loss: 0.3785, Acc: 0.8454\n",
      "Epoch [100/500] | Train Loss: 0.0002, Acc: 1.0000 | Test Loss: 0.3834, Acc: 0.8454\n",
      "Epoch [150/500] | Train Loss: 0.0001, Acc: 1.0000 | Test Loss: 0.3862, Acc: 0.8454\n",
      "Epoch [200/500] | Train Loss: 0.0001, Acc: 1.0000 | Test Loss: 0.3884, Acc: 0.8454\n",
      "Epoch [250/500] | Train Loss: 0.0001, Acc: 1.0000 | Test Loss: 0.3904, Acc: 0.8502\n",
      "Epoch [300/500] | Train Loss: 0.0001, Acc: 1.0000 | Test Loss: 0.3921, Acc: 0.8502\n",
      "Epoch [350/500] | Train Loss: 0.0001, Acc: 1.0000 | Test Loss: 0.3937, Acc: 0.8502\n",
      "Epoch [400/500] | Train Loss: 0.0001, Acc: 1.0000 | Test Loss: 0.3951, Acc: 0.8502\n",
      "Epoch [450/500] | Train Loss: 0.0001, Acc: 1.0000 | Test Loss: 0.3965, Acc: 0.8502\n",
      "Epoch [500/500] | Train Loss: 0.0000, Acc: 1.0000 | Test Loss: 0.3980, Acc: 0.8502\n"
     ]
    },
    {
     "data": {
      "image/png": "[encoded data removed]",
      "text/plain": [
       "<Figure size 1200x500 with 2 Axes>"
      ]
     },
     "metadata": {},
     "output_type": "display_data"
    }
   ],
   "source": [
    "train_losses, test_losses = [], []\n",
    "train_accuracies, test_accuracies = [],[]\n",
    "import matplotlib.pyplot as plt\n",
    "epochs = 500\n",
    "for epoch in range(epochs):\n",
    "    # ---- TRAIN ----\n",
    "    model.train()\n",
    "    outputs = model(X_train)\n",
    "    loss = criterion(outputs, y_train)\n",
    "\n",
    "    optimizer.zero_grad()\n",
    "    loss.backward()\n",
    "    optimizer.step()\n",
    "\n",
    "    # Train metrics\n",
    "    train_losses.append(loss.item())\n",
    "    _, predicted = torch.max(outputs, 1)\n",
    "    train_acc = (predicted == y_train).float().mean().item()\n",
    "    train_accuracies.append(train_acc)\n",
    "\n",
    "    # ---- TEST ----\n",
    "    model.eval()\n",
    "    with torch.inference_mode():\n",
    "        test_outputs = model(X_test)\n",
    "        test_loss = criterion(test_outputs, y_test)\n",
    "        test_losses.append(test_loss.item())\n",
    "\n",
    "        test_pred = torch.argmax(test_outputs, dim=1)\n",
    "        test_acc = (test_pred == y_test).float().mean().item()\n",
    "        test_accuracies.append(test_acc)\n",
    "\n",
    "    if (epoch + 1) % 50 == 0:  # log every 50 epochs\n",
    "        print(f\"Epoch [{epoch+1}/{epochs}] \"\n",
    "              f\"| Train Loss: {loss.item():.4f}, Acc: {train_acc:.4f} \"\n",
    "              f\"| Test Loss: {test_loss.item():.4f}, Acc: {test_acc:.4f}\")\n",
    "\n",
    "# ---- PLOTS ----\n",
    "plt.figure(figsize=(12,5))\n",
    "\n",
    "# Loss\n",
    "plt.subplot(1,2,1)\n",
    "plt.plot(train_losses, label=\"Train Loss\")\n",
    "plt.plot(test_losses, label=\"Test Loss\")\n",
    "plt.xlabel(\"Epoch\")\n",
    "plt.ylabel(\"Loss\")\n",
    "plt.title(\"Loss Curves\")\n",
    "plt.legend()\n",
    "\n",
    "# Accuracy\n",
    "plt.subplot(1,2,2)\n",
    "plt.plot(train_accuracies, label=\"Train Acc\")\n",
    "plt.plot(test_accuracies, label=\"Test Acc\")\n",
    "plt.xlabel(\"Epoch\")\n",
    "plt.ylabel(\"Accuracy\")\n",
    "plt.title(\"Accuracy Curves\")\n",
    "plt.legend()\n",
    "\n",
    "plt.show()\n"
   ]
  },
  {
   "cell_type": "code",
   "execution_count": 1174,
   "id": "4f89ef10",
   "metadata": {},
   "outputs": [
    {
     "name": "stdout",
     "output_type": "stream",
     "text": [
      "Accuracy: 0.8502\n"
     ]
    }
   ],
   "source": [
    "#Evaluation\n",
    "with torch.inference_mode():\n",
    "    y_pred = model(X_test) #forward pass\n",
    "    y_pred_classes = torch.argmax(y_pred, dim=1 ) #pick highest probability class\n",
    "    acc = (y_pred_classes == y_test).float().mean() #accuracy\n",
    "    print(f'Accuracy: {acc.item():.4f}')"
   ]
  },
  {
   "cell_type": "code",
   "execution_count": 1175,
   "id": "eaecbb30",
   "metadata": {},
   "outputs": [],
   "source": [
    "import torch\n",
    "import joblib\n",
    "import os\n",
    "\n",
    "save_dir = \".\"   # current directory (your models folder)\n",
    "os.makedirs(save_dir, exist_ok=True)\n",
    "\n",
    "# Save TF-IDF vectorizer\n",
    "joblib.dump(vectorizer, os.path.join(save_dir, \"vectorizer.pkl\"))\n",
    "\n",
    "# Save model weights\n",
    "torch.save(model.state_dict(), os.path.join(save_dir, \"category_predictor_model.pth\"))\n",
    "\n",
    "# Save category mapping using PyTorch (from the LabelEncoder)\n",
    "category_list = list(encoder.classes_)  # this preserves exact order\n",
    "torch.save(category_list, os.path.join(save_dir, \"encoder.pth\"))\n"
   ]
  },
  {
   "cell_type": "markdown",
   "id": "4dfc358d",
   "metadata": {},
   "source": []
  },
  {
   "cell_type": "code",
   "execution_count": 1176,
   "id": "81cc9121",
   "metadata": {},
   "outputs": [
    {
     "name": "stdout",
     "output_type": "stream",
     "text": [
      "Predicted category: Food with probability 1.0000\n",
      "Predicted category: Healthcare with probability 0.9845\n",
      "Predicted category: Transport with probability 0.9973\n",
      "Predicted category: Entertainment with probability 0.9941\n",
      "Predicted category: Transport with probability 0.9095\n",
      "Predicted category: Food with probability 1.0000\n",
      "Predicted category: Education with probability 0.9929\n",
      "Predicted category: Transport with probability 0.9095\n",
      "Predicted category: Transport with probability 0.7980\n",
      "Predicted category: Food with probability 0.9985\n",
      "Predicted category: Entertainment with probability 0.9831\n",
      "Predicted category: Transport with probability 1.0000\n"
     ]
    },
    {
     "data": {
      "text/plain": [
       "'Transport'"
      ]
     },
     "execution_count": 1176,
     "metadata": {},
     "output_type": "execute_result"
    }
   ],
   "source": [
    "# import spacy\n",
    "# nlp = spacy.load(\"en_core_web_sm\")\n",
    "totals = {category: 0.0 for category in encoder.classes_}\n",
    "totals[\"Others\"] = 0.0\n",
    "\n",
    "import torch.nn.functional as F\n",
    "\n",
    "def predict(text, threshold=0.7):\n",
    "    # Vectorize\n",
    "    text = normalize_text(text)\n",
    "    vec = vectorizer.transform([text]).toarray()\n",
    "    vec = torch.tensor(vec, dtype=torch.float32).to(device)\n",
    "\n",
    "    # Predict probabilities\n",
    "    output = model(vec)\n",
    "    probs = F.softmax(output, dim=1)\n",
    "    max_prob, pred_idx = torch.max(probs, dim=1)\n",
    "\n",
    "    # Decide category\n",
    "    if max_prob.item() < threshold:\n",
    "        pred_category = \"Others\"\n",
    "    else:\n",
    "        pred_category = encoder.inverse_transform([pred_idx.item()])[0]\n",
    "    print(f\"Predicted category: {pred_category} with probability {max_prob.item():.4f}\")\n",
    "    return pred_category\n",
    "\n",
    "\n",
    "    # # Extract all amounts\n",
    "    # doc = nlp(text)\n",
    "    # amount = 0.0\n",
    "    # for ent in doc.ents:\n",
    "    #     if ent.label_ in [\"MONEY\", \"CARDINAL\"]:\n",
    "    #         try:\n",
    "    #             amount += float(ent.text)  # sum all numbers in the sentence\n",
    "    #         except:\n",
    "    #             pass\n",
    "\n",
    "    # totals[pred] += amount\n",
    "    # return totals\n",
    "# testing:\n",
    "predict(\"Bought apples for 80 rs\")   \n",
    "predict(\"Hospital bill as 750\")   \n",
    "predict(\"Taxi fare as 300\")       \n",
    "predict(\"Netflix subscription as 500\") \n",
    "predict(\"Train from Velachery as 150\") \n",
    "predict(\"Spent 500 for spinach\")\n",
    "predict(\"Spent 500000 on sons tuition fee\")\n",
    "predict(\"Spent 5 rs on train\")\n",
    "predict(\"spent 500 on uber\")\n",
    "predict(\"5000 rs for groceries\")\n",
    "predict(\"Movie ticket 250\")\n",
    "predict(\"uber ride for 500rs\")\n"
   ]
  },
  {
   "cell_type": "code",
   "execution_count": 1177,
   "id": "2a49614f",
   "metadata": {},
   "outputs": [],
   "source": [
    "# import spacy\n",
    "# nlp = spacy.load(\"en_core_web_sm\")\n",
    "\n",
    "# doc = nlp(\"I spent Rs. 700 and 300 on food on 26th July\")\n",
    "# for ent in doc.ents:\n",
    "#     print(ent.text, ent.label_)\n"
   ]
  },
  {
   "cell_type": "code",
   "execution_count": 1178,
   "id": "320d8f8e",
   "metadata": {},
   "outputs": [
    {
     "name": "stdout",
     "output_type": "stream",
     "text": [
      "d:\\Programming\\Projects\\Finance-Tracker-App\\backend\\models\n"
     ]
    }
   ],
   "source": [
    "import os\n",
    "print(os.getcwd())\n",
    "\n"
   ]
  },
  {
   "cell_type": "code",
   "execution_count": 1179,
   "id": "027208df",
   "metadata": {},
   "outputs": [
    {
     "name": "stdout",
     "output_type": "stream",
     "text": [
      "Training order: ['Education', 'Entertainment', 'Food', 'Healthcare', 'Housing', 'Transport']\n"
     ]
    }
   ],
   "source": [
    "print(\"Training order:\", list(encoder.classes_))\n",
    "\n",
    "\n",
    "\n"
   ]
  }
 ],
 "metadata": {
  "kernelspec": {
   "display_name": "Python 3",
   "language": "python",
   "name": "python3"
  },
  "language_info": {
   "codemirror_mode": {
    "name": "ipython",
    "version": 3
   },
   "file_extension": ".py",
   "mimetype": "text/x-python",
   "name": "python",
   "nbconvert_exporter": "python",
   "pygments_lexer": "ipython3",
   "version": "3.12.4"
  }
 },
 "nbformat": 4,
 "nbformat_minor": 5
}
