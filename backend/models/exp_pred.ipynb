{
 "cells": [
  {
   "cell_type": "code",
   "execution_count": 1,
   "id": "3449d684",
   "metadata": {},
   "outputs": [],
   "source": [
    "import torch\n",
    "import torch.nn as nn\n",
    "import numpy as np\n",
    "\n",
    "# Sample dataset (Food, Travel, Entertainment, Utilities)\n",
    "data = np.array([\n",
    "    [5000, 2000, 1000, 1500],\n",
    "    [5200, 1800, 1200, 1600],\n",
    "    [4800, 2100,  900, 1700],\n",
    "    [5100, 2200, 1100, 1550],\n",
    "    [5300, 2400, 1200, 1650]\n",
    "], dtype=np.float32)"
   ]
  },
  {
   "cell_type": "code",
   "execution_count": 2,
   "id": "e089c6d7",
   "metadata": {},
   "outputs": [],
   "source": [
    "# Normalize data (important for NN training)\n",
    "data = (data - data.mean(axis=0)) / data.std(axis=0)\n",
    "#data.std(axis=0) computes the standard deviation of each column (feature) in the data NumPy array\n",
    "\n",
    "# Prepare sequences (last 3 months -> predict next month) if less than 3 months take len(data)-1\n",
    "seq_length = min(3, len(data)-1)\n",
    "\n",
    "X, y = [], []\n",
    "for i in range(len(data) - seq_length):\n",
    "    X.append(data[i:i+seq_length])   # past 3 months\n",
    "    y.append(data[i+seq_length])     # next month\n",
    "\n",
    "X = np.array(X)  # shape: (samples, seq_len, features)\n",
    "y = np.array(y)  # shape: (samples, features)\n",
    "\n",
    "# Convert to tensors\n",
    "X = torch.tensor(X, dtype=torch.float32)\n",
    "y = torch.tensor(y, dtype=torch.float32)"
   ]
  },
  {
   "cell_type": "code",
   "execution_count": 3,
   "id": "13af18e1",
   "metadata": {},
   "outputs": [
    {
     "data": {
      "text/plain": [
       "(tensor([[[-0.4650, -0.5000, -0.6860, -1.4142],\n",
       "          [ 0.6975, -1.5000,  1.0290,  0.0000],\n",
       "          [-1.6275,  0.0000, -1.5435,  1.4142]],\n",
       " \n",
       "         [[ 0.6975, -1.5000,  1.0290,  0.0000],\n",
       "          [-1.6275,  0.0000, -1.5435,  1.4142],\n",
       "          [ 0.1162,  0.5000,  0.1715, -0.7071]]]),\n",
       " tensor([[ 0.1162,  0.5000,  0.1715, -0.7071],\n",
       "         [ 1.2787,  1.5000,  1.0290,  0.7071]]))"
      ]
     },
     "execution_count": 3,
     "metadata": {},
     "output_type": "execute_result"
    }
   ],
   "source": [
    "X,y"
   ]
  },
  {
   "cell_type": "code",
   "execution_count": 4,
   "id": "e4924b33",
   "metadata": {},
   "outputs": [],
   "source": [
    "# Define LSTM model\n",
    "class ExpensePredictor(nn.Module):\n",
    "    def __init__(self, input_size, hidden_size, output_size):\n",
    "        super(ExpensePredictor, self).__init__()\n",
    "        self.lstm = nn.LSTM(input_size, hidden_size, batch_first=True)\n",
    "        self.fc = nn.Linear(hidden_size, output_size)\n",
    "    \n",
    "    def forward(self, x):\n",
    "        out, _ = self.lstm(x)\n",
    "        out = out[:, -1, :]   # take last time step\n",
    "        out = self.fc(out)\n",
    "        return out\n"
   ]
  },
  {
   "cell_type": "code",
   "execution_count": 5,
   "id": "085a064e",
   "metadata": {},
   "outputs": [],
   "source": [
    "# Model params\n",
    "input_size = 4      # categories: Food, Travel, Entertainment, Utilities\n",
    "hidden_size = 16\n",
    "output_size = 4     # predict all 4 categories\n",
    "\n",
    "expense_predictor_model = ExpensePredictor(input_size, hidden_size, output_size)"
   ]
  },
  {
   "cell_type": "code",
   "execution_count": 6,
   "id": "9d3497c6",
   "metadata": {},
   "outputs": [],
   "source": [
    "# Loss & optimizer\n",
    "criterion = nn.MSELoss()\n",
    "optimizer = torch.optim.Adam(expense_predictor_model.parameters(), lr=0.01)\n"
   ]
  },
  {
   "cell_type": "markdown",
   "id": "3516a658",
   "metadata": {},
   "source": [
    "MSELoss → minimizes squared error between predicted and actual expenses.\n",
    "\n",
    "Adam optimizer → updates weights.\n",
    "\n",
    "We train for 200 epochs.\n",
    "\n",
    "Every iteration, the model learns to map “past 3 months → next month”."
   ]
  },
  {
   "cell_type": "code",
   "execution_count": 7,
   "id": "6a35b4a6",
   "metadata": {},
   "outputs": [
    {
     "name": "stdout",
     "output_type": "stream",
     "text": [
      "Epoch [50/200], Loss: 0.0012\n",
      "Epoch [100/200], Loss: 0.0000\n",
      "Epoch [150/200], Loss: 0.0000\n",
      "Epoch [200/200], Loss: 0.0000\n"
     ]
    }
   ],
   "source": [
    "# Training loop\n",
    "epochs = 200\n",
    "for epoch in range(epochs):\n",
    "    expense_predictor_model.train()\n",
    "    output = expense_predictor_model(X)\n",
    "    loss = criterion(output, y)\n",
    "    \n",
    "    optimizer.zero_grad()\n",
    "    loss.backward()\n",
    "    optimizer.step()\n",
    "    \n",
    "    if (epoch+1) % 50 == 0:\n",
    "        print(f\"Epoch [{epoch+1}/{epochs}], Loss: {loss.item():.4f}\")"
   ]
  },
  {
   "cell_type": "code",
   "execution_count": 8,
   "id": "befc673e",
   "metadata": {},
   "outputs": [
    {
     "name": "stdout",
     "output_type": "stream",
     "text": [
      "Next month prediction (normalized): [[1.6903455 1.7518439 1.2374494 1.3064885]]\n"
     ]
    }
   ],
   "source": [
    "with torch.no_grad():\n",
    "    last_seq = torch.tensor(data[-3:], dtype=torch.float32).unsqueeze(0)  # shape (1, seq_len, features)\n",
    "    prediction = expense_predictor_model(last_seq)\n",
    "    print(\"Next month prediction (normalized):\", prediction.numpy())"
   ]
  },
  {
   "cell_type": "code",
   "execution_count": 9,
   "id": "51563813",
   "metadata": {},
   "outputs": [
    {
     "name": "stdout",
     "output_type": "stream",
     "text": [
      "Predicted expenses (Food, Travel, Entertainment, Utilities):\n",
      "[[5253.55182886 2450.36878586 1223.74494076 1704.51908112]]\n"
     ]
    }
   ],
   "source": [
    "# Denormalize prediction\n",
    "mean = np.array([5000, 2100, 1100, 1600])  # example mean (use actual mean from training)\n",
    "std = np.array([150, 200, 100, 80])        # example std (use actual std from training)\n",
    "\n",
    "real_prediction = prediction.numpy() * std + mean\n",
    "print(\"Predicted expenses (Food, Travel, Entertainment, Utilities):\")\n",
    "print(real_prediction)\n"
   ]
  }
 ],
 "metadata": {
  "kernelspec": {
   "display_name": "venv",
   "language": "python",
   "name": "python3"
  },
  "language_info": {
   "codemirror_mode": {
    "name": "ipython",
    "version": 3
   },
   "file_extension": ".py",
   "mimetype": "text/x-python",
   "name": "python",
   "nbconvert_exporter": "python",
   "pygments_lexer": "ipython3",
   "version": "3.12.4"
  }
 },
 "nbformat": 4,
 "nbformat_minor": 5
}
