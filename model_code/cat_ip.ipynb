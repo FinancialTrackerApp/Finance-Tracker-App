{
 "cells": [
  {
   "cell_type": "code",
   "execution_count": null,
   "id": "9288037e",
   "metadata": {},
   "outputs": [],
   "source": [
    "import torch\n",
    "import torch.nn as nn\n",
    "import torch.optim as optim\n",
    "from sklearn.feature_extraction.text import TfidfVectorizer\n",
    "from sklearn.model_selection import train_test_split\n",
    "from sklearn.preprocessing import LabelEncoder\n",
    "import pandas as pd\n",
    "import os"
   ]
  },
  {
   "cell_type": "code",
   "execution_count": 28,
   "id": "6efdb188",
   "metadata": {},
   "outputs": [
    {
     "data": {
      "text/plain": [
       "device(type='cpu')"
      ]
     },
     "execution_count": 28,
     "metadata": {},
     "output_type": "execute_result"
    }
   ],
   "source": [
    "device = torch.device(\"cuda\" if torch.cuda.is_available() else \"cpu\")\n",
    "device\n",
    "\n",
    "\n"
   ]
  },
  {
   "cell_type": "code",
   "execution_count": null,
   "id": "70d0fcec",
   "metadata": {},
   "outputs": [],
   "source": [
    "\n",
    "# csv_path = r\"C:\\Users\\final\\FinancialTrackerApp\\model_code\\expenses_data.csv\"\n",
    "BASE_DIR = os.path.join(os.getcwd(), \"model_code\")\n",
    "csv_path = os.path.join(BASE_DIR, \"expenses_data.csv\")\n",
    "df = pd.read_csv(csv_path)\n",
    "texts = df['text']       \n",
    "labels = df['category']  "
   ]
  },
  {
   "cell_type": "code",
   "execution_count": 30,
   "id": "037baf86",
   "metadata": {},
   "outputs": [
    {
     "data": {
      "text/plain": [
       "<Compressed Sparse Row sparse matrix of dtype 'float64'\n",
       "\twith 180 stored elements and shape (76, 111)>"
      ]
     },
     "execution_count": 30,
     "metadata": {},
     "output_type": "execute_result"
    }
   ],
   "source": [
    "#converting text data into numerical vectors\n",
    "vectorizer = TfidfVectorizer()\n",
    "X = vectorizer.fit_transform(texts)\n",
    "X\n"
   ]
  },
  {
   "cell_type": "code",
   "execution_count": 31,
   "id": "e096513c",
   "metadata": {},
   "outputs": [
    {
     "data": {
      "text/plain": [
       "array([0, 0, 0, 0, 0, 0, 0, 0, 0, 0, 0, 0, 0, 0, 1, 1, 1, 1, 1, 1, 1, 1,\n",
       "       1, 1, 3, 3, 3, 3, 3, 3, 3, 3, 3, 3, 3, 3, 2, 2, 2, 2, 2, 2, 2, 2,\n",
       "       2, 2, 2, 0, 0, 3, 1, 1, 0, 2, 0, 0, 0, 0, 0, 0, 0, 0, 0, 0, 0, 0,\n",
       "       0, 0, 0, 0, 0, 0, 0, 0, 0, 0])"
      ]
     },
     "execution_count": 31,
     "metadata": {},
     "output_type": "execute_result"
    }
   ],
   "source": [
    "# Encoding the labels\n",
    "encoder = LabelEncoder()\n",
    "y = encoder.fit_transform(labels)\n",
    "y"
   ]
  },
  {
   "cell_type": "code",
   "execution_count": 32,
   "id": "17407cca",
   "metadata": {},
   "outputs": [],
   "source": [
    "#Train and test split\n",
    "X_train, X_test, y_train, y_test = train_test_split(X, y, test_size=0.2, random_state=42)\n",
    "\n",
    "# Convert sparse matrices to dense arrays to avoid type errors\n",
    "X_train = X_train.toarray()\n",
    "X_test = X_test.toarray()\n",
    "\n",
    "\n",
    "X_train = torch.tensor(X_train, dtype=torch.float32)\n",
    "y_train = torch.tensor(y_train, dtype=torch.long)\n",
    "X_test = torch.tensor(X_test, dtype=torch.float32)\n",
    "y_test = torch.tensor(y_test, dtype=torch.long)\n"
   ]
  },
  {
   "cell_type": "code",
   "execution_count": 33,
   "id": "1a576a12",
   "metadata": {},
   "outputs": [],
   "source": [
    "X_train = X_train.to(device)\n",
    "y_train = y_train.to(device)\n",
    "X_test = X_test.to(device)\n",
    "y_test = y_test.to(device)\n"
   ]
  },
  {
   "cell_type": "code",
   "execution_count": 34,
   "id": "81a6b94e",
   "metadata": {},
   "outputs": [],
   "source": [
    "#Define model\n",
    "class ExpenseClassifier(nn.Module):\n",
    "    def __init__(self, input_size,hidden_size, num_classes):\n",
    "        super(ExpenseClassifier, self).__init__()\n",
    "        self.fc1 = nn.Linear(input_size, hidden_size)\n",
    "        self.relu = nn.ReLU()\n",
    "        self.fc2 = nn.Linear(hidden_size, num_classes)\n",
    "\n",
    "    def forward(self,x):\n",
    "        out = self.fc1(x)\n",
    "        out = self.relu(out)\n",
    "        out = self.fc2(out)\n",
    "        return out"
   ]
  },
  {
   "cell_type": "code",
   "execution_count": 35,
   "id": "cebe98b6",
   "metadata": {},
   "outputs": [
    {
     "data": {
      "text/plain": [
       "ExpenseClassifier(\n",
       "  (fc1): Linear(in_features=111, out_features=64, bias=True)\n",
       "  (relu): ReLU()\n",
       "  (fc2): Linear(in_features=64, out_features=4, bias=True)\n",
       ")"
      ]
     },
     "execution_count": 35,
     "metadata": {},
     "output_type": "execute_result"
    }
   ],
   "source": [
    "input_size = X_train.shape[1]\n",
    "hidden_size = 64\n",
    "num_classes = len(set(y))\n",
    "\n",
    "model = ExpenseClassifier(input_size, hidden_size, num_classes)\n",
    "model.to(device)"
   ]
  },
  {
   "cell_type": "code",
   "execution_count": 36,
   "id": "97d2cab7",
   "metadata": {},
   "outputs": [],
   "source": [
    "#Loss and optimizer\n",
    "criterion = nn.CrossEntropyLoss() # compares predicted catgeory vs actual\n",
    "optimizer = optim.Adam(model.parameters(), lr=0.01) # updates model weights efficiently\n"
   ]
  },
  {
   "cell_type": "code",
   "execution_count": 37,
   "id": "2a867f5f",
   "metadata": {},
   "outputs": [
    {
     "name": "stdout",
     "output_type": "stream",
     "text": [
      "Epoch [10/200], Loss: 0.8718\n",
      "Epoch [20/200], Loss: 0.3412\n",
      "Epoch [30/200], Loss: 0.0509\n",
      "Epoch [40/200], Loss: 0.0076\n",
      "Epoch [50/200], Loss: 0.0023\n",
      "Epoch [60/200], Loss: 0.0012\n",
      "Epoch [70/200], Loss: 0.0009\n",
      "Epoch [80/200], Loss: 0.0007\n",
      "Epoch [90/200], Loss: 0.0006\n",
      "Epoch [100/200], Loss: 0.0005\n",
      "Epoch [110/200], Loss: 0.0005\n",
      "Epoch [120/200], Loss: 0.0005\n",
      "Epoch [130/200], Loss: 0.0004\n",
      "Epoch [140/200], Loss: 0.0004\n",
      "Epoch [150/200], Loss: 0.0004\n",
      "Epoch [160/200], Loss: 0.0003\n",
      "Epoch [170/200], Loss: 0.0003\n",
      "Epoch [180/200], Loss: 0.0003\n",
      "Epoch [190/200], Loss: 0.0003\n",
      "Epoch [200/200], Loss: 0.0002\n"
     ]
    }
   ],
   "source": [
    "#Training loop\n",
    "epochs = 200\n",
    "for epoch in range(epochs):\n",
    "    outputs = model(X_train)\n",
    "    loss = criterion(outputs, y_train)\n",
    "    optimizer.zero_grad()\n",
    "    loss.backward()\n",
    "    optimizer.step()\n",
    "\n",
    "    if(epoch+1)%10==0:\n",
    "        print(f'Epoch [{epoch+1}/{epochs}], Loss: {loss.item():.4f}')"
   ]
  },
  {
   "cell_type": "code",
   "execution_count": 38,
   "id": "4f89ef10",
   "metadata": {},
   "outputs": [
    {
     "name": "stdout",
     "output_type": "stream",
     "text": [
      "Accuracy: 0.7500\n"
     ]
    }
   ],
   "source": [
    "#Evaluation\n",
    "with torch.inference_mode():\n",
    "    y_pred = model(X_test) #forward pass\n",
    "    y_pred_classes = torch.argmax(y_pred, dim=1 ) #pick highest probability class\n",
    "    acc = (y_pred_classes == y_test).float().mean() #accuracy\n",
    "    print(f'Accuracy: {acc.item():.4f}')"
   ]
  },
  {
   "cell_type": "code",
   "execution_count": null,
   "id": "81cc9121",
   "metadata": {},
   "outputs": [
    {
     "name": "stdout",
     "output_type": "stream",
     "text": [
      "{'food': 580.0, 'medical': 750.0, 'transport': 450.0, 'others': 500.0}\n"
     ]
    }
   ],
   "source": [
    "import spacy\n",
    "nlp = spacy.load(\"en_core_web_sm\")\n",
    "totals = {\n",
    "    \"food\": 0.0,\n",
    "    \"medical\": 0.0,\n",
    "    \"transport\": 0.0,\n",
    "    \"others\": 0.0\n",
    "}\n",
    "\n",
    "def predict(text):\n",
    "    # Vectorize and move to correct device\n",
    "    vec = vectorizer.transform([text]).toarray()\n",
    "    vec = torch.tensor(vec, dtype=torch.float32).to(device)\n",
    "\n",
    "    # Predict category\n",
    "    output = model(vec)\n",
    "    pred = torch.argmax(output, 1).item()\n",
    "    pred = encoder.inverse_transform([pred])[0]\n",
    "\n",
    "    # Extract all amounts\n",
    "    doc = nlp(text)\n",
    "    amount = 0.0\n",
    "    for ent in doc.ents:\n",
    "        if ent.label_ in [\"MONEY\", \"CARDINAL\"]:\n",
    "            try:\n",
    "                amount += float(ent.text)  # sum all numbers in the sentence\n",
    "            except:\n",
    "                pass\n",
    "\n",
    "    totals[pred] += amount\n",
    "    return totals\n",
    "# testing:\n",
    "# predict(\"Bought apples for 80 rs\")   \n",
    "# predict(\"Hospital bill as 750\")   \n",
    "# predict(\"Taxi fare as 300\")       \n",
    "# predict(\"Netflix subscription as 500\") \n",
    "# predict(\"Train from Velachery as 150\") \n",
    "# predict(\"Spent 500 at hotel\")\n",
    "\n",
    "print(totals)\n"
   ]
  },
  {
   "cell_type": "code",
   "execution_count": null,
   "id": "2a49614f",
   "metadata": {},
   "outputs": [
    {
     "name": "stdout",
     "output_type": "stream",
     "text": [
      "700 CARDINAL\n",
      "300 CARDINAL\n",
      "26th July DATE\n"
     ]
    }
   ],
   "source": [
    "import spacy\n",
    "nlp = spacy.load(\"en_core_web_sm\")\n",
    "\n",
    "doc = nlp(\"I spent Rs. 700 and 300 on food on 26th July\")\n",
    "for ent in doc.ents:\n",
    "    print(ent.text, ent.label_)\n"
   ]
  }
 ],
 "metadata": {
  "kernelspec": {
   "display_name": "venv (3.12.10)",
   "language": "python",
   "name": "python3"
  },
  "language_info": {
   "codemirror_mode": {
    "name": "ipython",
    "version": 3
   },
   "file_extension": ".py",
   "mimetype": "text/x-python",
   "name": "python",
   "nbconvert_exporter": "python",
   "pygments_lexer": "ipython3",
   "version": "3.12.10"
  }
 },
 "nbformat": 4,
 "nbformat_minor": 5
}
